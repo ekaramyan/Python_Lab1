{
 "cells": [
  {
   "cell_type": "markdown",
   "metadata": {},
   "source": [
    "# Лабораторная 1"
   ]
  },
  {
   "cell_type": "markdown",
   "metadata": {},
   "source": [
    "Задание 1: Напишите скрипт, который преобразует введенное с клавиатуры вещественное число в денежный формат. Например, число 12,5 должно быть преобразовано к виду «12 руб. 50 коп.». В случае ввода отрицательного числа выдайте сообщение «Некорректный формат!» путем обработки исключения в коде."
   ]
  },
  {
   "cell_type": "code",
   "execution_count": 5,
   "metadata": {},
   "outputs": [
    {
     "name": "stdout",
     "output_type": "stream",
     "text": [
      "12.2\n",
      "12 рублей 20 копеек\n"
     ]
    }
   ],
   "source": [
    "import math\n",
    "num = float(input())\n",
    "if num <0:\n",
    "    print(\"Отрицательное значение!!!\")\n",
    "    exit()\n",
    "else:\n",
    "    num1 = int(num)\n",
    "    num2 = round((num - num1)*100)\n",
    "    num2 = math.ceil(num2)\n",
    "print (num1, \"рублей\", num2, \"копеек\")"
   ]
  },
  {
   "cell_type": "markdown",
   "metadata": {},
   "source": [
    "Задание 2: Написать скрипт, который выводит на экран «True», если элементы программно задаваемого списка представляют собой возрастающую последовательность, иначе – «False»."
   ]
  },
  {
   "cell_type": "code",
   "execution_count": 6,
   "metadata": {},
   "outputs": [
    {
     "name": "stdout",
     "output_type": "stream",
     "text": [
      "True\n"
     ]
    }
   ],
   "source": [
    "def list_check(list):\n",
    "    base = list[0]\n",
    "    for item in list:\n",
    "        if(item < base):\n",
    "            return False\n",
    "        base = item\n",
    "    return True\n",
    "list1 = (1, 2, 8, 9 ,10)\n",
    "print(list_check(list1))"
   ]
  },
  {
   "cell_type": "markdown",
   "metadata": {},
   "source": [
    "Задание 3: Напишите скрипт, который позволяет ввести с клавиатуры номер дебетовой карты (16 цифр) и выводит номер в скрытом виде: первые и последние 4 цифры отображены нормально, а между ними – символы «*» (например, 5123 1212)."
   ]
  },
  {
   "cell_type": "code",
   "execution_count": 7,
   "metadata": {},
   "outputs": [
    {
     "name": "stdout",
     "output_type": "stream",
     "text": [
      "1234567890123456\n",
      "1234 **** **** 3456\n"
     ]
    }
   ],
   "source": [
    "num = str(input())\n",
    "if len(num) !=16:\n",
    "    print('Недопустимое количество символов')\n",
    "    exit()\n",
    "else:\n",
    "    hidden = num[:4]+' '+'****'+' '+'****'+' '+num[-4:]\n",
    "    print(hidden)"
   ]
  },
  {
   "cell_type": "markdown",
   "metadata": {},
   "source": [
    "Задание 4: Напишите скрипт, который разделяет введенный с клавиатуры текст на слова и выводит сначала те слова, длина которых превосходит 7 символов, затем слова размером от 4 до 7 символов, затем – все остальные"
   ]
  },
  {
   "cell_type": "code",
   "execution_count": 7,
   "metadata": {},
   "outputs": [
    {
     "name": "stdout",
     "output_type": "stream",
     "text": [
      "Сас олололоолол сас\n",
      "олололоолол, \n"
     ]
    }
   ],
   "source": [
    "tense = str(input())\n",
    "tense_arr = tense.split( )\n",
    "for j in tense_arr:\n",
    "    if len(j) >= 7:\n",
    "        print(j + \", \")\n",
    "    elif len(j) > 4:\n",
    "        if len(j) < 7:\n",
    "            print(j + \", \")"
   ]
  },
  {
   "cell_type": "markdown",
   "metadata": {},
   "source": [
    "Задание 5: Напишите скрипт, который позволяет ввести с клавиатуры текст предложения и сформировать новую строку на основе исходной, в которой все слова, начинающиеся с большой буквы, приведены к верхнему регистру. Слова могут разделяться запятыми или пробелами. Например, если пользователь введет строку «город Донецк, река Кальмиус», результирующая строка должна выглядеть так: «город ДОНЕЦК, река КАЛЬМИУС»."
   ]
  },
  {
   "cell_type": "code",
   "execution_count": 30,
   "metadata": {},
   "outputs": [
    {
     "name": "stdout",
     "output_type": "stream",
     "text": [
      "enter sentence:город Донецк река Кальмиус\n",
      "ДОНЕЦК\n",
      "КАЛЬМИУС\n"
     ]
    }
   ],
   "source": [
    "capital_letter = []\n",
    "word = input(\"enter sentence:\").split(\" \")\n",
    "for first_letter in word:\n",
    "    if first_letter.istitle():\n",
    "        capital_letter.append(first_letter)\n",
    "        word = ''.join(first_letter.upper())\n",
    "        print(word)\n",
    "        #на доработке"
   ]
  },
  {
   "cell_type": "markdown",
   "metadata": {},
   "source": [
    "Задание 6: Напишите программу, позволяющую ввести с клавиатуры текст\n",
    "предложения и вывести на консоль все символы, которые входят в этот\n",
    "текст ровно по одному разу."
   ]
  },
  {
   "cell_type": "code",
   "execution_count": 5,
   "metadata": {},
   "outputs": [
    {
     "name": "stdout",
     "output_type": "stream",
     "text": [
      "enter sentence:My name is Edward\n"
     ]
    },
    {
     "data": {
      "text/plain": [
       "['M', 'E', 'n', ' ', 'a', 'y', 'e', 's', 'i', 'r', 'd', 'w', 'm']"
      ]
     },
     "execution_count": 5,
     "metadata": {},
     "output_type": "execute_result"
    }
   ],
   "source": [
    "sentence = input(\"enter sentence:\")\n",
    "list(set(sentence))"
   ]
  },
  {
   "cell_type": "markdown",
   "metadata": {},
   "source": [
    "Задание 7: Напишите скрипт, который обрабатывает список строк-адресов\n",
    "следующим образом: сначала определяет, начинается ли каждая строка\n",
    "в списке с префикса «www». Если условие выполняется, то скрипт\n",
    "должен вставить в начало этой строки префикс «http://», а затем\n",
    "проверить, что строка заканчивается на «.com». Если у строки другое\n",
    "окончание, то скрипт должен вставить в конец подстроку «.com». В\n",
    "итоге скрипт должен вывести на консоль новый список с измененными\n",
    "адресами. Используйте генераторы списков."
   ]
  },
  {
   "cell_type": "code",
   "execution_count": 29,
   "metadata": {},
   "outputs": [
    {
     "name": "stdout",
     "output_type": "stream",
     "text": [
      "enter url:www.remember-botsyk.livejournal\n",
      "http://www.remember-botsyk.livejournal.com\n"
     ]
    }
   ],
   "source": [
    "url = input(\"enter url:\")\n",
    "http = \"http://\"\n",
    "if url.startswith(\"www\"):\n",
    "    url = http + url\n",
    "if url.endswith(\"com\"):\n",
    "    print(url)\n",
    "else:    \n",
    "    print(url + \".com\")"
   ]
  },
  {
   "cell_type": "markdown",
   "metadata": {},
   "source": [
    "Задание 8: Напишите скрипт, генерирующий случайным образом число n в\n",
    "диапазоне от 1 до 10000. Скрипт должен создать массив из n целых\n",
    "чисел, также сгенерированных случайным образом, и дополнить\n",
    "массив нулями до размера, равного ближайшей сверху степени двойки.\n",
    "Например, если в массиве было n=100 элементов, то массив нужно\n",
    "дополнить 28 нулями, чтобы в итоге был массив из 28\n",
    "=128 элементов\n",
    "(ближайшая степень двойки к 100 – это число 128, к 35 – это 64 и т.д.)."
   ]
  },
  {
   "cell_type": "code",
   "execution_count": 9,
   "metadata": {},
   "outputs": [
    {
     "ename": "SyntaxError",
     "evalue": "invalid syntax (<ipython-input-9-ea97da2778c3>, line 3)",
     "output_type": "error",
     "traceback": [
      "\u001b[1;36m  File \u001b[1;32m\"<ipython-input-9-ea97da2778c3>\"\u001b[1;36m, line \u001b[1;32m3\u001b[0m\n\u001b[1;33m    def rnd\u001b[0m\n\u001b[1;37m           ^\u001b[0m\n\u001b[1;31mSyntaxError\u001b[0m\u001b[1;31m:\u001b[0m invalid syntax\n"
     ]
    }
   ],
   "source": [
    "import math\n",
    "import random\n",
    "def rnd\n",
    "    n = random.randrange(1, 10000)\n",
    "    i = math.ceil(math.log(n, 2))\n"
   ]
  },
  {
   "cell_type": "markdown",
   "metadata": {},
   "source": [
    "Задание 9: Напишите программу, имитирующую работу банкомата. Выберите\n",
    "структуру данных для хранения купюр разного достоинства в заданном\n",
    "количестве. При вводе пользователем запрашиваемой суммы денег,\n",
    "скрипт должен вывести на консоль количество купюр подходящего\n",
    "достоинства. Если имеющихся денег не хватает, то необходимо\n",
    "напечатать сообщение «Операция не может быть выполнена!».\n",
    "Например, при сумме 5370 рублей на консоль должно быть выведено\n",
    "«5*1000 + 3*100 + 1*50 + 2*10»."
   ]
  },
  {
   "cell_type": "code",
   "execution_count": null,
   "metadata": {},
   "outputs": [],
   "source": [
    "#допишу на паре, вкратце: используя округления и типы данных посчитать количество купюр\n",
    "mon = input(\"введите количество денег:\")\n",
    "if "
   ]
  },
  {
   "cell_type": "markdown",
   "metadata": {},
   "source": [
    "Задание 10: Напишите скрипт, позволяющий определить надежность вводимого\n",
    "пользователем пароля. Это задание является творческим: алгоритм\n",
    "определения надежности разработайте самостоятельно."
   ]
  },
  {
   "cell_type": "code",
   "execution_count": null,
   "metadata": {},
   "outputs": [],
   "source": [
    "#критерии: должна быть строчная и заглавные буквы, минимум одна цифра и длина больше либо равна 8 символам, если все соблюдены, то пароль супер\n",
    "#делать через циклы if-else\n"
   ]
  },
  {
   "cell_type": "markdown",
   "metadata": {},
   "source": [
    "Задание 11: Напишите генератор frange как аналог range() с дробным шагом."
   ]
  },
  {
   "cell_type": "code",
   "execution_count": 3,
   "metadata": {},
   "outputs": [
    {
     "name": "stdout",
     "output_type": "stream",
     "text": [
      "1.1\n",
      "1.2\n",
      "1.3\n",
      "1.4\n",
      "1.5\n",
      "1.6\n",
      "1.7\n",
      "1.8\n",
      "1.9\n",
      "2.0\n",
      "2.1\n",
      "2.2\n",
      "2.3\n",
      "2.4\n",
      "2.5\n",
      "2.6\n",
      "2.7\n",
      "2.8\n",
      "2.9\n",
      "3.0\n",
      "3.1\n",
      "3.2\n",
      "3.3\n",
      "3.4\n",
      "3.5\n",
      "3.6\n",
      "3.7\n",
      "3.8\n",
      "3.9\n",
      "4.0\n",
      "4.1\n",
      "4.2\n",
      "4.3\n",
      "4.4\n",
      "4.5\n",
      "4.6\n",
      "4.7\n",
      "4.8\n",
      "4.9\n",
      "5.0\n"
     ]
    }
   ],
   "source": [
    "def frange(from_, to_, step_):\n",
    "    while from_ < to_ - step_:\n",
    "        from_ += step_\n",
    "        print(round(from_, 1))\n",
    "        \n",
    "frange(1, 5, 0.1)"
   ]
  },
  {
   "cell_type": "markdown",
   "metadata": {},
   "source": [
    "Задание 12: Напишите генератор get_frames(), который производит «оконную\n",
    "декомпозицию» сигнала: на основе входного списка генерирует набор\n",
    "списков – перекрывающихся отдельных фрагментов сигнала размера\n",
    "size со степенью перекрытия overlap."
   ]
  },
  {
   "cell_type": "code",
   "execution_count": 2,
   "metadata": {},
   "outputs": [
    {
     "name": "stdout",
     "output_type": "stream",
     "text": [
      "[1, 2, 3, 4, 5]\n",
      "[6, 7, 8, 9, 10]\n",
      "[11, 12, 13, 14, 15]\n",
      "[16, 17, 18, 19, 20]\n"
     ]
    }
   ],
   "source": [
    "def get_frames(size, overlap):\n",
    "    signal = [1, 2, 3, 4, 5, 6, 7, 8, 9, 10, 11, 12, 13, 14, 15, 16, 17, 18, 19, 20]\n",
    "    size = size * overlap\n",
    "    start = 0\n",
    "    end = int(size)\n",
    "\n",
    "    while end <= len(signal):\n",
    "        frame = signal[start:end]\n",
    "        yield frame\n",
    "        start += int(size)\n",
    "        end += int(size)\n",
    "        \n",
    "for frame in get_frames (size=10, overlap=0.5):\n",
    "        print(frame)"
   ]
  },
  {
   "cell_type": "markdown",
   "metadata": {},
   "source": [
    "Задание 13: Напишите собственную версию генератора enumerate под названием\n",
    "extra_enumerate."
   ]
  },
  {
   "cell_type": "code",
   "execution_count": 1,
   "metadata": {},
   "outputs": [
    {
     "name": "stdout",
     "output_type": "stream",
     "text": [
      "Welcome to the cum zone\n",
      "1 1 0.1\n",
      "3 4 0.3\n",
      "4 8 0.4\n",
      "2 10 0.2\n"
     ]
    }
   ],
   "source": [
    "print(\"Welcome to the cum zone\")\n",
    "def extra_enumerate(list_):\n",
    "    cum = 0\n",
    "    for i, elem in enumerate(list_):\n",
    "        cum += elem\n",
    "        yield (i, elem, cum, round(sum(list_) / 100 * elem, 3))\n",
    "\n",
    "for i, element, cum, frac in extra_enumerate([1, 3, 4, 2]):\n",
    "    print(element, cum, frac)"
   ]
  },
  {
   "cell_type": "markdown",
   "metadata": {},
   "source": [
    "Задание 14: Напишите декоратор non_empty, который дополнительно проверяет\n",
    "списковый результат любой функции: если в нем содержатся пустые\n",
    "строки или значение None, то они удаляются."
   ]
  },
  {
   "cell_type": "code",
   "execution_count": 5,
   "metadata": {},
   "outputs": [
    {
     "name": "stdout",
     "output_type": "stream",
     "text": [
      "['chapter1', 'contents', 'line1']\n"
     ]
    }
   ],
   "source": [
    "def non_empty(def_):\n",
    "    def wrapper():\n",
    "        return list(filter(lambda x: not x == '' and x is not None, def_()))\n",
    "    return wrapper\n",
    "\n",
    "@non_empty\n",
    "def get_pages():\n",
    "    return ['chapter1', '', 'contents', '', 'line1', None]\n",
    "print(get_pages())"
   ]
  },
  {
   "cell_type": "markdown",
   "metadata": {},
   "source": [
    "Задание 15: Напишите параметризированный декоратор pre_process, который\n",
    "осуществляет предварительную обработку (цифровую фильтрацию)\n",
    "списка по алгоритму: s[i] = s[i]–a∙s[i–1]. Параметр а можно задать в\n",
    "коде (по умолчанию равен 0.97)."
   ]
  },
  {
   "cell_type": "code",
   "execution_count": 6,
   "metadata": {},
   "outputs": [
    {
     "name": "stdout",
     "output_type": "stream",
     "text": [
      "-7.37\n",
      "2.07\n",
      "2.21\n",
      "2.35\n",
      "2.49\n"
     ]
    }
   ],
   "source": [
    "def pre_process(a=0.97):\n",
    "    def inner_wrapper(def_):\n",
    "        def wrapper(list_):\n",
    "            res = []\n",
    "            for i in range(len(list_)):\n",
    "                res.append(round(list_[i] - a * list_[i-1], 2))\n",
    "            def_(res)\n",
    "        return wrapper\n",
    "    return inner_wrapper\n",
    "\n",
    "s = [1, 3, 5, 7, 9]\n",
    "\n",
    "@pre_process(a=0.93)\n",
    "def plot_signal(s_):\n",
    "    for sample in s_:\n",
    "        print(sample)\n",
    "plot_signal(s)"
   ]
  },
  {
   "cell_type": "markdown",
   "metadata": {},
   "source": [
    "Задание 16: Напишите скрипт, который на основе списка из 16 названий\n",
    "футбольных команд случайным образом формирует 4 группы по 4\n",
    "команды, а также выводит на консоль календарь всех игр (игры\n",
    "должны проходить по средам, раз в 2 недели, начиная с 14 сентября\n",
    "текущего года). Даты игр необходимо выводить в формате «14/09/2016,\n",
    "22:45». Используйте модули random и itertools."
   ]
  },
  {
   "cell_type": "code",
   "execution_count": null,
   "metadata": {},
   "outputs": [],
   "source": []
  }
 ],
 "metadata": {
  "kernelspec": {
   "display_name": "Python 3",
   "language": "python",
   "name": "python3"
  },
  "language_info": {
   "codemirror_mode": {
    "name": "ipython",
    "version": 3
   },
   "file_extension": ".py",
   "mimetype": "text/x-python",
   "name": "python",
   "nbconvert_exporter": "python",
   "pygments_lexer": "ipython3",
   "version": "3.8.5"
  }
 },
 "nbformat": 4,
 "nbformat_minor": 4
}
