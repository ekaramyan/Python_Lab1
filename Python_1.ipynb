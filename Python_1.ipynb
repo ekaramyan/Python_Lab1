{
 "cells": [
  {
   "cell_type": "markdown",
   "metadata": {},
   "source": [
    "# Лабораторная 1"
   ]
  },
  {
   "cell_type": "markdown",
   "metadata": {},
   "source": [
    "Задание 1: Напишите скрипт, который преобразует введенное с клавиатуры вещественное число в денежный формат. Например, число 12,5 должно быть преобразовано к виду «12 руб. 50 коп.». В случае ввода отрицательного числа выдайте сообщение «Некорректный формат!» путем обработки исключения в коде."
   ]
  },
  {
   "cell_type": "code",
   "execution_count": 5,
   "metadata": {},
   "outputs": [
    {
     "name": "stdout",
     "output_type": "stream",
     "text": [
      "12.2\n",
      "12 рублей 20 копеек\n"
     ]
    }
   ],
   "source": [
    "import math\n",
    "num = float(input())\n",
    "if num <0:\n",
    "    print(\"Отрицательное значение!!!\")\n",
    "    exit()\n",
    "else:\n",
    "    num1 = int(num)\n",
    "    num2 = round((num - num1)*100)\n",
    "    num2 = math.ceil(num2)\n",
    "print (num1, \"рублей\", num2, \"копеек\")"
   ]
  },
  {
   "cell_type": "markdown",
   "metadata": {},
   "source": [
    "Задание 2: Написать скрипт, который выводит на экран «True», если элементы программно задаваемого списка представляют собой возрастающую последовательность, иначе – «False»."
   ]
  },
  {
   "cell_type": "code",
   "execution_count": 6,
   "metadata": {},
   "outputs": [
    {
     "name": "stdout",
     "output_type": "stream",
     "text": [
      "True\n"
     ]
    }
   ],
   "source": [
    "def list_check(list):\n",
    "    base = list[0]\n",
    "    for item in list:\n",
    "        if(item < base):\n",
    "            return False\n",
    "        base = item\n",
    "    return True\n",
    "list1 = (1, 2, 8, 9 ,10)\n",
    "print(list_check(list1))"
   ]
  },
  {
   "cell_type": "markdown",
   "metadata": {},
   "source": [
    "Задание 3: Напишите скрипт, который позволяет ввести с клавиатуры номер дебетовой карты (16 цифр) и выводит номер в скрытом виде: первые и последние 4 цифры отображены нормально, а между ними – символы «*» (например, 5123 1212)."
   ]
  },
  {
   "cell_type": "code",
   "execution_count": 7,
   "metadata": {},
   "outputs": [
    {
     "name": "stdout",
     "output_type": "stream",
     "text": [
      "1234567890123456\n",
      "1234 **** **** 3456\n"
     ]
    }
   ],
   "source": [
    "num = str(input())\n",
    "if len(num) !=16:\n",
    "    print('Недопустимое количество символов')\n",
    "    exit()\n",
    "else:\n",
    "    hidden = num[:4]+' '+'****'+' '+'****'+' '+num[-4:]\n",
    "    print(hidden)"
   ]
  },
  {
   "cell_type": "markdown",
   "metadata": {},
   "source": [
    "Задание 4: Напишите скрипт, который разделяет введенный с клавиатуры текст на слова и выводит сначала те слова, длина которых превосходит 7 символов, затем слова размером от 4 до 7 символов, затем – все остальные"
   ]
  },
  {
   "cell_type": "code",
   "execution_count": null,
   "metadata": {},
   "outputs": [],
   "source": [
    "list = []\n",
    "tense = input().split(\" \") #не работает\n",
    "i = 0\n",
    "while len(tense) > 7:\n",
    "        print(tense(i)/n)\n",
    "        i += 1\n",
    "        break\n",
    "i = 0\n",
    "while len(tense) > 4:\n",
    "        while len(tense) < 7:\n",
    "            print(tense/n)\n",
    "        i += 1\n",
    "        break\n",
    "        print(tense)"
   ]
  },
  {
   "cell_type": "markdown",
   "metadata": {},
   "source": [
    "Задание 5: Напишите скрипт, который позволяет ввести с клавиатуры текст предложения и сформировать новую строку на основе исходной, в которой все слова, начинающиеся с большой буквы, приведены к верхнему регистру. Слова могут разделяться запятыми или пробелами. Например, если пользователь введет строку «город Донецк, река Кальмиус», результирующая строка должна выглядеть так: «город ДОНЕЦК, река КАЛЬМИУС»."
   ]
  },
  {
   "cell_type": "code",
   "execution_count": 3,
   "metadata": {},
   "outputs": [
    {
     "name": "stdout",
     "output_type": "stream",
     "text": [
      "enter word:город Донецк река Кальмиус\n",
      "ДОНЕЦК ['город', 'Донецк', 'река', 'Кальмиус']\n",
      "КАЛЬМИУС ['город', 'Донецк', 'река', 'Кальмиус']\n"
     ]
    }
   ],
   "source": [
    "capital_latter = []\n",
    "word = input(\"enter word:\").split(\" \")\n",
    "for first_letter in word:\n",
    "    if first_letter.istitle():\n",
    "        capital_latter.append(first_letter)\n",
    "        #word_number = capital_latter.index()\n",
    "        #capital_latter.insert(word_number, first_letter)\n",
    "        print(first_letter.upper(), word)\n",
    "        #на доработке"
   ]
  },
  {
   "cell_type": "markdown",
   "metadata": {},
   "source": [
    "Задание 6: Напишите программу, позволяющую ввести с клавиатуры текст\n",
    "предложения и вывести на консоль все символы, которые входят в этот\n",
    "текст ровно по одному разу."
   ]
  },
  {
   "cell_type": "code",
   "execution_count": null,
   "metadata": {},
   "outputs": [],
   "source": []
  }
 ],
 "metadata": {
  "kernelspec": {
   "display_name": "Python 3",
   "language": "python",
   "name": "python3"
  },
  "language_info": {
   "codemirror_mode": {
    "name": "ipython",
    "version": 3
   },
   "file_extension": ".py",
   "mimetype": "text/x-python",
   "name": "python",
   "nbconvert_exporter": "python",
   "pygments_lexer": "ipython3",
   "version": "3.8.5"
  }
 },
 "nbformat": 4,
 "nbformat_minor": 4
}
