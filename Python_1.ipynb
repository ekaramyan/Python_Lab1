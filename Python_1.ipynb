{
 "cells": [
  {
   "cell_type": "markdown",
   "metadata": {},
   "source": [
    "# Лабораторная 1"
   ]
  },
  {
   "cell_type": "markdown",
   "metadata": {},
   "source": [
    "Задание1:Напишите скрипт, который преобразует введенное с клавиатуры\n",
    "вещественное число в денежный формат. Например, число 12,5 должно\n",
    "быть преобразовано к виду «12 руб. 50 коп.». В случае ввода\n",
    "отрицательного числа выдайте сообщение «Некорректный формат!»\n",
    "путем обработки исключения в коде."
   ]
  },
  {
   "cell_type": "code",
   "execution_count": null,
   "metadata": {},
   "outputs": [],
   "source": [
    "num = float(input())\n",
    "if num <0:\n",
    "    print(\"Отрицательное значени!!!\")\n",
    "    exit()\n",
    "else:\n",
    "    num1 = int(num)\n",
    "    num2 = (num - num1)*100\n",
    "    num2 = int(num2)\n",
    "print (num1, \"рублей\", num2, \"копеек\")"
   ]
  },
  {
   "cell_type": "markdown",
   "metadata": {},
   "source": [
    "Задание2:Написать скрипт, который выводит на экран «True», если элементы\n",
    "программно задаваемого списка представляют собой возрастающую\n",
    "последовательность, иначе – «False»."
   ]
  },
  {
   "cell_type": "code",
   "execution_count": null,
   "metadata": {},
   "outputs": [],
   "source": [
    "def list_check(list):\n",
    "    base = list[0]\n",
    "    for item in list:\n",
    "        if(item < base):\n",
    "            return False\n",
    "        base = item\n",
    "    return True\n",
    "list1 = (1, 2, 8, 9 ,10)\n",
    "print(list_check(list1))"
   ]
  }
 ],
 "metadata": {
  "kernelspec": {
   "display_name": "Python 3",
   "language": "python",
   "name": "python3"
  },
  "language_info": {
   "codemirror_mode": {
    "name": "ipython",
    "version": 3
   },
   "file_extension": ".py",
   "mimetype": "text/x-python",
   "name": "python",
   "nbconvert_exporter": "python",
   "pygments_lexer": "ipython3",
   "version": "3.6.11"
  }
 },
 "nbformat": 4,
 "nbformat_minor": 2
}
